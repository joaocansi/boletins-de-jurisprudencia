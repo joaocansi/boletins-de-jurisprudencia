{
 "cells": [
  {
   "cell_type": "markdown",
   "metadata": {},
   "source": [
    "### # Instalando dependências\n",
    "\n",
    "No código abaixo, serão instalados as seguintes dependências:\n",
    "1. [OpenPyXL](https://openpyxl.readthedocs.io/en/stable/)\n",
    "2. [Selenium](https://www.selenium.dev/pt-br/documentation/webdriver/getting_started/)\n",
    "3. [Docx2txt](https://github.com/ankushshah89/python-docx2txt)\n",
    "4. [PyMuPDF](https://pymupdf.readthedocs.io/en/latest/module.html)"
   ]
  },
  {
   "cell_type": "code",
   "execution_count": null,
   "metadata": {},
   "outputs": [],
   "source": [
    "%pip install -r requirements.txt"
   ]
  },
  {
   "cell_type": "code",
   "execution_count": 7,
   "metadata": {},
   "outputs": [],
   "source": [
    "import os\n",
    "import re\n",
    "import time\n",
    "import fitz\n",
    "import docx2txt\n",
    "import requests\n",
    "\n",
    "from selenium.webdriver import Chrome, ChromeOptions\n",
    "from selenium.webdriver.support.wait import WebDriverWait\n",
    "from selenium.webdriver.common.by import By\n",
    "from selenium.webdriver.support import expected_conditions as EC\n",
    "\n",
    "from openpyxl import Workbook"
   ]
  },
  {
   "cell_type": "markdown",
   "metadata": {},
   "source": [
    "### # Definindo parâmetros\n",
    "Nesta seção você deverá definir o raio de boletins que você deseja pegar os dados e, portanto, adicionar na planilha. Na variável **min** e **max** representam o raio que você deseja buscar os boletins, ou seja, se definirmos **max** como *10* e **min** como *1*, estamos definindo um raio entre o boletim de número 1 até o boletim de número 10"
   ]
  },
  {
   "cell_type": "code",
   "execution_count": null,
   "metadata": {},
   "outputs": [],
   "source": [
    "max = 0 # se 0, irá até o ultimo boletim. \n",
    "min = 50"
   ]
  },
  {
   "cell_type": "markdown",
   "metadata": {},
   "source": [
    "### # Variáveis Estáticas\n",
    "\n",
    "Nesta seção, estão definidas algumas variáveis importantes para o funcionamento da aplicação e não devem ser modificadas"
   ]
  },
  {
   "cell_type": "code",
   "execution_count": 9,
   "metadata": {},
   "outputs": [],
   "source": [
    "path = os.path.join(os.getcwd(), 'downloads')\n",
    "url = 'https://portal.tcu.gov.br/jurisprudencia/boletins-e-informativos/'"
   ]
  },
  {
   "cell_type": "markdown",
   "metadata": {},
   "source": [
    "### # Métodos Importantes"
   ]
  },
  {
   "cell_type": "code",
   "execution_count": null,
   "metadata": {},
   "outputs": [],
   "source": [
    "def save_file(context, path, extension):\n",
    "    return"
   ]
  },
  {
   "cell_type": "markdown",
   "metadata": {},
   "source": [
    "### # Configurando o Selenium\n",
    "\n",
    "Nesta seção, o navegador que será utilizado para realizar web scraping será configurado e instanciado para realizar a atividade"
   ]
  },
  {
   "cell_type": "code",
   "execution_count": 11,
   "metadata": {},
   "outputs": [],
   "source": [
    "options = ChromeOptions()\n",
    "options.add_experimental_option(\"prefs\", {\n",
    "    \"download.default_directory\": path,\n",
    "    \"download.directory_upgrade\": True,\n",
    "    \"download.prompt_for_download\": False,\n",
    "})\n",
    "\n",
    "driver = Chrome(options)\n",
    "wait = WebDriverWait(driver, 20)"
   ]
  },
  {
   "cell_type": "markdown",
   "metadata": {},
   "source": [
    "### # Acessando o site do TCE\n",
    "\n",
    "Neste processo, entraremos no site dos boletins de jurisprudência e coletaremos algumas informações como a quantidade de boletins e sobre a paginação da tabela dos boletins"
   ]
  },
  {
   "cell_type": "code",
   "execution_count": 13,
   "metadata": {},
   "outputs": [],
   "source": [
    "driver.get(url)"
   ]
  },
  {
   "cell_type": "code",
   "execution_count": 1,
   "metadata": {},
   "outputs": [],
   "source": [
    "class Judgment:\n",
    "    def __init__(self, judgment, year, rapporteur, process, subject, type, header, body, session_date, url):\n",
    "        self.judgment = judgment\n",
    "        self.year = year\n",
    "        self.rapporteur = rapporteur\n",
    "        self.process = process\n",
    "        self.subject = subject\n",
    "        self.type = type\n",
    "        self.header = header\n",
    "        self.body = body\n",
    "        self.session_date = session_date\n",
    "        self.url = url\n",
    "        self.push_content()\n",
    "        \n",
    "    def push_content(self):\n",
    "        driver.get(self.url)     \n",
    "        self.type = self.wait.until(EC.visibility_of_element_located((By.ID, 'conteudo_tipo_processo'))).text\n",
    "        self.session_date = self.wait.until(EC.visibility_of_element_located((By.ID, 'conteudo_data_sessao'))).text\n",
    "        self.process = self.wait.until(EC.visibility_of_element_located((By.ID, 'conteudo_processo'))).text.replace(' launch', '')\n",
    "        self.rapporteur = self.wait.until(EC.visibility_of_element_located((By.ID, 'conteudo_relator'))).text\n",
    "        self.subject = self.wait.until(EC.visibility_of_element_located((By.ID, 'conteudo_assunto'))).text\n",
    "\n",
    "class Report:\n",
    "    def __init__(self, report, release_date, url):\n",
    "        self.report = report\n",
    "        self.release_date = release_date\n",
    "        self.url = url\n",
    "        self.download()\n",
    "        self.push()\n",
    "        \n",
    "    def download(self):\n",
    "        pdf_response = requests.get(self.url)\n",
    "        docx_response = requests.get(self.url.replace('&amp;', '&'))    \n",
    "        \n",
    "        if pdf_response.status_code != 200 or docx_response.status_code != 200:\n",
    "            return\n",
    "        \n",
    "        save_file(docx_response.context, path, 'docx')\n",
    "        save_file(pdf_response.context, path, 'pdf')\n",
    "        \n",
    "    def push_content(self):\n",
    "        return"
   ]
  }
 ],
 "metadata": {
  "kernelspec": {
   "display_name": "Python 3",
   "language": "python",
   "name": "python3"
  },
  "language_info": {
   "codemirror_mode": {
    "name": "ipython",
    "version": 3
   },
   "file_extension": ".py",
   "mimetype": "text/x-python",
   "name": "python",
   "nbconvert_exporter": "python",
   "pygments_lexer": "ipython3",
   "version": "3.11.4"
  },
  "orig_nbformat": 4
 },
 "nbformat": 4,
 "nbformat_minor": 2
}
